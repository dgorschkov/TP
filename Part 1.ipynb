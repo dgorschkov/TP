{
 "cells": [
  {
   "cell_type": "code",
   "execution_count": 1,
   "metadata": {},
   "outputs": [],
   "source": [
    "a = 'hello'\n",
    "a = 35\n",
    "a = '9999'\n",
    "a = int(a)"
   ]
  },
  {
   "cell_type": "code",
   "execution_count": 2,
   "metadata": {},
   "outputs": [
    {
     "name": "stdout",
     "output_type": "stream",
     "text": [
      "9999\n"
     ]
    }
   ],
   "source": [
    "print(a)"
   ]
  },
  {
   "cell_type": "code",
   "execution_count": 3,
   "metadata": {},
   "outputs": [
    {
     "data": {
      "text/plain": [
       "9999"
      ]
     },
     "execution_count": 3,
     "metadata": {},
     "output_type": "execute_result"
    }
   ],
   "source": [
    "a"
   ]
  },
  {
   "cell_type": "code",
   "execution_count": 4,
   "metadata": {},
   "outputs": [],
   "source": [
    "a = 1999\n",
    "a = 1 * 3 - 17 + 12 % 3\n",
    "b = 12.8\n",
    "c = True\n",
    "d = False\n",
    "e = 'qwerty'\n",
    "f = \"qwerty\""
   ]
  },
  {
   "cell_type": "code",
   "execution_count": 5,
   "metadata": {},
   "outputs": [
    {
     "name": "stdout",
     "output_type": "stream",
     "text": [
      "-14 12.8 True False qwerty qwerty\n"
     ]
    }
   ],
   "source": [
    "print(a, b, c, d, e, f)"
   ]
  },
  {
   "cell_type": "code",
   "execution_count": 6,
   "metadata": {},
   "outputs": [
    {
     "name": "stdout",
     "output_type": "stream",
     "text": [
      "0\n"
     ]
    }
   ],
   "source": [
    "a += 14\n",
    "print(a)"
   ]
  },
  {
   "cell_type": "code",
   "execution_count": 7,
   "metadata": {},
   "outputs": [
    {
     "name": "stdout",
     "output_type": "stream",
     "text": [
      "2\n"
     ]
    }
   ],
   "source": [
    "print(5 // 2)"
   ]
  },
  {
   "cell_type": "code",
   "execution_count": 8,
   "metadata": {},
   "outputs": [
    {
     "name": "stdout",
     "output_type": "stream",
     "text": [
      "2.0\n"
     ]
    }
   ],
   "source": [
    "print(4 / 2)"
   ]
  },
  {
   "cell_type": "code",
   "execution_count": 9,
   "metadata": {},
   "outputs": [
    {
     "name": "stdout",
     "output_type": "stream",
     "text": [
      "qwertyasdfg\n"
     ]
    }
   ],
   "source": [
    "e += 'asdfg'\n",
    "print(e)"
   ]
  },
  {
   "cell_type": "code",
   "execution_count": 10,
   "metadata": {},
   "outputs": [
    {
     "name": "stdout",
     "output_type": "stream",
     "text": [
      "qwertyasdfgqwertyasdfgqwertyasdfgqwertyasdfgqwertyasdfg\n"
     ]
    }
   ],
   "source": [
    "print(e * 5)"
   ]
  },
  {
   "cell_type": "code",
   "execution_count": 11,
   "metadata": {},
   "outputs": [
    {
     "data": {
      "text/plain": [
       "\"\\n\\t ' \\\\ \""
      ]
     },
     "execution_count": 11,
     "metadata": {},
     "output_type": "execute_result"
    }
   ],
   "source": [
    "'\\n\\t \\' \\\\ '"
   ]
  },
  {
   "cell_type": "code",
   "execution_count": 12,
   "metadata": {},
   "outputs": [
    {
     "name": "stdout",
     "output_type": "stream",
     "text": [
      "\n",
      "\t ' \\ \n"
     ]
    }
   ],
   "source": [
    "print('\\n\\t \\' \\\\ ')"
   ]
  },
  {
   "cell_type": "code",
   "execution_count": 14,
   "metadata": {},
   "outputs": [
    {
     "name": "stdout",
     "output_type": "stream",
     "text": [
      "0-|-12.8-|-True##########False-|-qwertyasdfg##########"
     ]
    }
   ],
   "source": [
    "print(a, b, c, sep='-|-', end='##########')\n",
    "print(d, e, sep='-|-', end='##########')"
   ]
  },
  {
   "cell_type": "code",
   "execution_count": null,
   "metadata": {},
   "outputs": [],
   "source": [
    "int, str, float, bool,"
   ]
  },
  {
   "cell_type": "code",
   "execution_count": 16,
   "metadata": {},
   "outputs": [
    {
     "name": "stdout",
     "output_type": "stream",
     "text": [
      "Введите данные: 12345екв  рара\n",
      "12345екв  рара\n"
     ]
    }
   ],
   "source": [
    "line = input('Введите данные: ')\n",
    "print(line)"
   ]
  },
  {
   "cell_type": "code",
   "execution_count": null,
   "metadata": {},
   "outputs": [],
   "source": [
    "if <condition>:\n",
    "    ....\n",
    "    ....\n",
    "    ....\n",
    "elif <condition>:\n",
    "    ......\n",
    "else:\n",
    "    pass #  TODO"
   ]
  },
  {
   "cell_type": "code",
   "execution_count": 17,
   "metadata": {},
   "outputs": [
    {
     "name": "stdout",
     "output_type": "stream",
     "text": [
      "Введите пароль\n",
      "qwerty\n",
      "Доступ разрешён\n"
     ]
    }
   ],
   "source": [
    "print('Введите пароль')\n",
    "password = input()\n",
    "if password == 'qwerty':\n",
    "    print('Доступ разрешён')\n",
    "else:\n",
    "    print('В доступе отказано')"
   ]
  },
  {
   "cell_type": "code",
   "execution_count": null,
   "metadata": {},
   "outputs": [],
   "source": [
    "not, and, or"
   ]
  },
  {
   "cell_type": "code",
   "execution_count": 23,
   "metadata": {},
   "outputs": [
    {
     "name": "stdout",
     "output_type": "stream",
     "text": [
      "Once deleted, variables cannot be recovered. Proceed (y/[n])? y\n"
     ]
    }
   ],
   "source": [
    "%reset"
   ]
  },
  {
   "cell_type": "code",
   "execution_count": 25,
   "metadata": {},
   "outputs": [
    {
     "name": "stdout",
     "output_type": "stream",
     "text": [
      "Введите первую и последнюю букву\n",
      "a\n",
      "z\n",
      "Доступ разрешён\n",
      "100\n"
     ]
    }
   ],
   "source": [
    "print('Введите первую и последнюю букву')\n",
    "a = input()\n",
    "b = input()\n",
    "if a == 'a' and b == 'z' or a == 'а' and b == 'я':\n",
    "    print('Доступ разрешён')\n",
    "    x = 100\n",
    "else:\n",
    "    print('В доступе отказано')\n",
    "print(x)"
   ]
  },
  {
   "cell_type": "code",
   "execution_count": 28,
   "metadata": {},
   "outputs": [
    {
     "data": {
      "text/plain": [
       "False"
      ]
     },
     "execution_count": 28,
     "metadata": {},
     "output_type": "execute_result"
    }
   ],
   "source": [
    "'qw' in 'ytqwerty' and 'wer' not in 'ytqwerty'"
   ]
  },
  {
   "cell_type": "code",
   "execution_count": 29,
   "metadata": {},
   "outputs": [
    {
     "data": {
      "text/plain": [
       "6"
      ]
     },
     "execution_count": 29,
     "metadata": {},
     "output_type": "execute_result"
    }
   ],
   "source": [
    "len('qwerty')"
   ]
  },
  {
   "cell_type": "code",
   "execution_count": 30,
   "metadata": {},
   "outputs": [
    {
     "data": {
      "text/plain": [
       "122"
      ]
     },
     "execution_count": 30,
     "metadata": {},
     "output_type": "execute_result"
    }
   ],
   "source": [
    "abs(-122)"
   ]
  },
  {
   "cell_type": "code",
   "execution_count": 31,
   "metadata": {},
   "outputs": [
    {
     "data": {
      "text/plain": [
       "9"
      ]
     },
     "execution_count": 31,
     "metadata": {},
     "output_type": "execute_result"
    }
   ],
   "source": [
    "max(1, 2, -10, 9)"
   ]
  },
  {
   "cell_type": "code",
   "execution_count": 32,
   "metadata": {},
   "outputs": [
    {
     "data": {
      "text/plain": [
       "'e'"
      ]
     },
     "execution_count": 32,
     "metadata": {},
     "output_type": "execute_result"
    }
   ],
   "source": [
    "min('qwerty')"
   ]
  },
  {
   "cell_type": "code",
   "execution_count": 33,
   "metadata": {},
   "outputs": [],
   "source": [
    "a, b, c = 1, 3, 0"
   ]
  },
  {
   "cell_type": "code",
   "execution_count": 34,
   "metadata": {},
   "outputs": [],
   "source": [
    "a, b = b, a"
   ]
  },
  {
   "cell_type": "code",
   "execution_count": null,
   "metadata": {},
   "outputs": [],
   "source": [
    "while <condition>:\n",
    "    ...\n",
    "    ...\n",
    "    ...\n",
    "else:\n",
    "    ..."
   ]
  },
  {
   "cell_type": "code",
   "execution_count": null,
   "metadata": {},
   "outputs": [],
   "source": [
    "break, continue"
   ]
  },
  {
   "cell_type": "code",
   "execution_count": null,
   "metadata": {},
   "outputs": [],
   "source": [
    "for i in ...:\n",
    "    ..."
   ]
  },
  {
   "cell_type": "code",
   "execution_count": 37,
   "metadata": {},
   "outputs": [
    {
     "name": "stdout",
     "output_type": "stream",
     "text": [
      "0 1 2 3 4 5 6 7 8 9 \n",
      "2 3 4 5 6 7 8 9 \n",
      "2 4 6 8 "
     ]
    }
   ],
   "source": [
    "for i in range(10):\n",
    "    print(i, end=' ')\n",
    "print()\n",
    "for i in range(2, 10):\n",
    "    print(i, end=' ')\n",
    "print()\n",
    "for i in range(2, 10, 2):\n",
    "    print(i, end=' ')"
   ]
  },
  {
   "cell_type": "code",
   "execution_count": 40,
   "metadata": {},
   "outputs": [
    {
     "name": "stdout",
     "output_type": "stream",
     "text": [
      "q w e r t y u i \n",
      "a\n",
      "qwertyui\n"
     ]
    }
   ],
   "source": [
    "line = 'qwertyui'\n",
    "for i in line:\n",
    "    print(i, end=' ')\n",
    "    i = 'a'\n",
    "print()\n",
    "print(i)\n",
    "print(line)"
   ]
  },
  {
   "cell_type": "code",
   "execution_count": 41,
   "metadata": {},
   "outputs": [
    {
     "name": "stdout",
     "output_type": "stream",
     "text": [
      "[1, 2, 3, 'ertyu', 1.2]\n"
     ]
    }
   ],
   "source": [
    "lst = []\n",
    "lst = list()\n",
    "lst = [1, 2, 3, 'ertyu', 1.2]\n",
    "print(lst)"
   ]
  },
  {
   "cell_type": "code",
   "execution_count": 45,
   "metadata": {},
   "outputs": [
    {
     "name": "stdout",
     "output_type": "stream",
     "text": [
      "[1, 2, 3, 1.2, 5]\n",
      "[1, 1.2, 2, 3, 5]\n",
      "[1, 1.2, 2, 3, 5]\n",
      "[5, 3, 2, 1.2, 1]\n",
      "[5, 3, 2, 1.2]\n",
      "[5, 3, 2, 1.2, 1, 2, 3, 4]\n",
      "[5, 3, 2, 1.2, 1, 2, 3, 4, 1, 2, 3]\n",
      "True\n",
      "0\n",
      "[5, 3, 2, 1.2, 1, 2, 9, 4, 1, 2, 3]\n",
      "0\n",
      "[5, 3, 2, 1.2, 2, 9, 4, 1, 2, 3]\n",
      "[9, 4, 1, 2, 3]\n",
      "[5, 3, 2, 1.2]\n",
      "[3, 1.2, 9]\n",
      "[3, 2, 1, 4, 9, 2, 1.2, 2, 3, 5]\n",
      "[]\n"
     ]
    }
   ],
   "source": [
    "lst = [1, 2, 3,  1.2]\n",
    "lst.append(5)\n",
    "print(lst)\n",
    "lst.sort()\n",
    "print(lst)\n",
    "lst = sorted(lst)\n",
    "print(lst)\n",
    "lst.reverse()\n",
    "print(lst)\n",
    "lst.pop(4)\n",
    "print(lst)\n",
    "lst.extend([1, 2, 3, 4])\n",
    "print(lst)\n",
    "lst += [1, 2, 3]\n",
    "print(lst)\n",
    "print(2 in lst)\n",
    "print(lst.index(5))\n",
    "lst[6] = 9\n",
    "print(lst)\n",
    "print(lst.count(55))\n",
    "lst.remove(1)\n",
    "print(lst[:])\n",
    "print(lst[5:])\n",
    "print(lst[:4])\n",
    "print(lst[1:7:2])\n",
    "print(lst[::-1])\n",
    "lst.clear()\n",
    "print(lst)\n",
    "del lst\n"
   ]
  },
  {
   "cell_type": "code",
   "execution_count": 46,
   "metadata": {},
   "outputs": [
    {
     "name": "stdout",
     "output_type": "stream",
     "text": [
      "<class 'str'>\n",
      "<class 'str'>\n"
     ]
    }
   ],
   "source": [
    "s = 'qwerty'\n",
    "print(type(s))\n",
    "print(type(s[0]))"
   ]
  },
  {
   "cell_type": "code",
   "execution_count": 47,
   "metadata": {},
   "outputs": [
    {
     "data": {
      "text/plain": [
       "'q'"
      ]
     },
     "execution_count": 47,
     "metadata": {},
     "output_type": "execute_result"
    }
   ],
   "source": [
    "s[0][0][0][0][0][0]"
   ]
  },
  {
   "cell_type": "code",
   "execution_count": 48,
   "metadata": {},
   "outputs": [
    {
     "ename": "TypeError",
     "evalue": "'str' object does not support item assignment",
     "output_type": "error",
     "traceback": [
      "\u001b[1;31m---------------------------------------------------------------------------\u001b[0m",
      "\u001b[1;31mTypeError\u001b[0m                                 Traceback (most recent call last)",
      "\u001b[1;32m<ipython-input-48-88dd6fabac11>\u001b[0m in \u001b[0;36m<module>\u001b[1;34m\u001b[0m\n\u001b[1;32m----> 1\u001b[1;33m \u001b[0ms\u001b[0m\u001b[1;33m[\u001b[0m\u001b[1;36m0\u001b[0m\u001b[1;33m]\u001b[0m \u001b[1;33m=\u001b[0m \u001b[1;34m'y'\u001b[0m\u001b[1;33m\u001b[0m\u001b[1;33m\u001b[0m\u001b[0m\n\u001b[0m",
      "\u001b[1;31mTypeError\u001b[0m: 'str' object does not support item assignment"
     ]
    }
   ],
   "source": [
    "s[0] = 'y'"
   ]
  },
  {
   "cell_type": "code",
   "execution_count": 49,
   "metadata": {},
   "outputs": [
    {
     "name": "stdout",
     "output_type": "stream",
     "text": [
      "11 21\n"
     ]
    }
   ],
   "source": [
    "a = 11\n",
    "b = a\n",
    "b += 10\n",
    "print(a, b)"
   ]
  },
  {
   "cell_type": "code",
   "execution_count": 51,
   "metadata": {},
   "outputs": [
    {
     "name": "stdout",
     "output_type": "stream",
     "text": [
      "[99, 2, 3] [99, 2, 3]\n",
      "[99, 2, 3] [99, 2, 3, 99, 2, 3]\n"
     ]
    }
   ],
   "source": [
    "a = [1, 2, 3]\n",
    "b = a\n",
    "b[0] = 99\n",
    "print(a, b)\n",
    "b = b * 2\n",
    "print(a, b)\n"
   ]
  },
  {
   "cell_type": "code",
   "execution_count": 53,
   "metadata": {},
   "outputs": [
    {
     "name": "stdout",
     "output_type": "stream",
     "text": [
      "[1, 2, 3] [99, 2, 3]\n"
     ]
    }
   ],
   "source": [
    "import copy\n",
    "a = [1, 2, 3]\n",
    "b = copy.deepcopy(a)\n",
    "b[0] = 99\n",
    "print(a, b)"
   ]
  },
  {
   "cell_type": "code",
   "execution_count": 54,
   "metadata": {},
   "outputs": [
    {
     "data": {
      "text/plain": [
       "['q', 'w', 'e', 'r', 't', 'y']"
      ]
     },
     "execution_count": 54,
     "metadata": {},
     "output_type": "execute_result"
    }
   ],
   "source": [
    "list('qwerty')"
   ]
  },
  {
   "cell_type": "code",
   "execution_count": 1,
   "metadata": {},
   "outputs": [
    {
     "name": "stdout",
     "output_type": "stream",
     "text": [
      "['__add__', '__class__', '__contains__', '__delattr__', '__delitem__', '__dir__', '__doc__', '__eq__', '__format__', '__ge__', '__getattribute__', '__getitem__', '__gt__', '__hash__', '__iadd__', '__imul__', '__init__', '__init_subclass__', '__iter__', '__le__', '__len__', '__lt__', '__mul__', '__ne__', '__new__', '__reduce__', '__reduce_ex__', '__repr__', '__reversed__', '__rmul__', '__setattr__', '__setitem__', '__sizeof__', '__str__', '__subclasshook__', 'append', 'clear', 'copy', 'count', 'extend', 'index', 'insert', 'pop', 'remove', 'reverse', 'sort']\n"
     ]
    }
   ],
   "source": [
    "lst = [1, 2, 3]\n",
    "print(dir(lst))"
   ]
  },
  {
   "cell_type": "code",
   "execution_count": 2,
   "metadata": {},
   "outputs": [
    {
     "name": "stdout",
     "output_type": "stream",
     "text": [
      "['__add__', '__class__', '__contains__', '__delattr__', '__dir__', '__doc__', '__eq__', '__format__', '__ge__', '__getattribute__', '__getitem__', '__getnewargs__', '__gt__', '__hash__', '__init__', '__init_subclass__', '__iter__', '__le__', '__len__', '__lt__', '__mod__', '__mul__', '__ne__', '__new__', '__reduce__', '__reduce_ex__', '__repr__', '__rmod__', '__rmul__', '__setattr__', '__sizeof__', '__str__', '__subclasshook__', 'capitalize', 'casefold', 'center', 'count', 'encode', 'endswith', 'expandtabs', 'find', 'format', 'format_map', 'index', 'isalnum', 'isalpha', 'isascii', 'isdecimal', 'isdigit', 'isidentifier', 'islower', 'isnumeric', 'isprintable', 'isspace', 'istitle', 'isupper', 'join', 'ljust', 'lower', 'lstrip', 'maketrans', 'partition', 'replace', 'rfind', 'rindex', 'rjust', 'rpartition', 'rsplit', 'rstrip', 'split', 'splitlines', 'startswith', 'strip', 'swapcase', 'title', 'translate', 'upper', 'zfill']\n"
     ]
    }
   ],
   "source": [
    "print(dir(''))"
   ]
  },
  {
   "cell_type": "code",
   "execution_count": 3,
   "metadata": {},
   "outputs": [
    {
     "name": "stdout",
     "output_type": "stream",
     "text": [
      "hello - 11. d = 0.333\n"
     ]
    }
   ],
   "source": [
    "x = 11\n",
    "s = 'hello'\n",
    "d = 1 / 3\n",
    "print(f'{s} - {x}. d = {d:.3}')"
   ]
  },
  {
   "cell_type": "code",
   "execution_count": 4,
   "metadata": {},
   "outputs": [
    {
     "name": "stdout",
     "output_type": "stream",
     "text": [
      "1 lkdj      lkhjkl    37\n",
      "['1', 'lkdj', 'lkhjkl', '37']\n"
     ]
    }
   ],
   "source": [
    "lst = input().split()\n",
    "print(lst)"
   ]
  },
  {
   "cell_type": "code",
   "execution_count": 6,
   "metadata": {},
   "outputs": [
    {
     "name": "stdout",
     "output_type": "stream",
     "text": [
      "1-2-3\n",
      "1 2 3\n"
     ]
    }
   ],
   "source": [
    "x, y, z = input().split('-')\n",
    "print(x, y, z)"
   ]
  },
  {
   "cell_type": "code",
   "execution_count": 7,
   "metadata": {},
   "outputs": [
    {
     "name": "stdout",
     "output_type": "stream",
     "text": [
      "1, lkdj, lkhjkl, 37\n"
     ]
    }
   ],
   "source": [
    "print(', '.join(lst))"
   ]
  },
  {
   "cell_type": "code",
   "execution_count": 8,
   "metadata": {},
   "outputs": [
    {
     "name": "stdout",
     "output_type": "stream",
     "text": [
      "1 2 4 5 10\n",
      "[1, 2, 4, 5, 10]\n"
     ]
    }
   ],
   "source": [
    "numbers = input().split()\n",
    "for i in range(len(numbers)):\n",
    "    numbers[i] = int(numbers[i])\n",
    "print(numbers)"
   ]
  },
  {
   "cell_type": "code",
   "execution_count": 11,
   "metadata": {},
   "outputs": [
    {
     "name": "stdout",
     "output_type": "stream",
     "text": [
      "1 2 4 5 10\n",
      "[2, 4, 10]\n"
     ]
    }
   ],
   "source": [
    "numbers = [int(i) for i in input().split() if int(i) % 2 == 0]\n",
    "print(numbers)"
   ]
  },
  {
   "cell_type": "code",
   "execution_count": null,
   "metadata": {},
   "outputs": [],
   "source": [
    "x, y, z = [int(i) for i in input().split()]"
   ]
  },
  {
   "cell_type": "code",
   "execution_count": 14,
   "metadata": {},
   "outputs": [
    {
     "name": "stdout",
     "output_type": "stream",
     "text": [
      "[0, 0, 0] [[0, 0, 0, 0, 0], [0, 0, 0, 0, 0], [0, 0, 0, 0, 0]]\n"
     ]
    }
   ],
   "source": [
    "n, m = 3, 5\n",
    "lst = [0] * n\n",
    "lst2 = [[0] * m] * n\n",
    "print(lst, lst2)"
   ]
  },
  {
   "cell_type": "code",
   "execution_count": 15,
   "metadata": {},
   "outputs": [
    {
     "name": "stdout",
     "output_type": "stream",
     "text": [
      "[[1, 0, 0, 0, 0], [1, 0, 0, 0, 0], [1, 0, 0, 0, 0]]\n"
     ]
    }
   ],
   "source": [
    "lst2[0][0] = 1\n",
    "print(lst2)"
   ]
  },
  {
   "cell_type": "code",
   "execution_count": 16,
   "metadata": {},
   "outputs": [
    {
     "name": "stdout",
     "output_type": "stream",
     "text": [
      "[[1, 0, 0, 0, 0], [0, 0, 0, 0, 0], [0, 0, 0, 0, 0]]\n"
     ]
    }
   ],
   "source": [
    "lst2 = [[0] * m for i in range(n)]\n",
    "lst2[0][0] = 1\n",
    "print(lst2)"
   ]
  },
  {
   "cell_type": "code",
   "execution_count": 17,
   "metadata": {},
   "outputs": [
    {
     "name": "stdout",
     "output_type": "stream",
     "text": [
      "(1, 2, 3, 4) <class 'tuple'>\n"
     ]
    }
   ],
   "source": [
    "t = 1, 2, 3, 4\n",
    "print(t, type(t))"
   ]
  },
  {
   "cell_type": "code",
   "execution_count": 18,
   "metadata": {},
   "outputs": [
    {
     "name": "stdout",
     "output_type": "stream",
     "text": [
      "(1,) <class 'tuple'>\n"
     ]
    }
   ],
   "source": [
    "t = (1, ) \n",
    "print(t, type(t))"
   ]
  },
  {
   "cell_type": "code",
   "execution_count": 20,
   "metadata": {},
   "outputs": [
    {
     "name": "stdout",
     "output_type": "stream",
     "text": [
      "set() {1, 2, 3, 'qwerty', 'asdfgh'}\n"
     ]
    }
   ],
   "source": [
    "empty = set()\n",
    "st1 = {1, 2, 'qwerty', True, 'qwerty', 2, 3, 3.0, 'asdfgh'}\n",
    "print(empty, st1)"
   ]
  },
  {
   "cell_type": "code",
   "execution_count": 22,
   "metadata": {},
   "outputs": [
    {
     "name": "stdout",
     "output_type": "stream",
     "text": [
      "['__and__', '__class__', '__contains__', '__delattr__', '__dir__', '__doc__', '__eq__', '__format__', '__ge__', '__getattribute__', '__gt__', '__hash__', '__iand__', '__init__', '__init_subclass__', '__ior__', '__isub__', '__iter__', '__ixor__', '__le__', '__len__', '__lt__', '__ne__', '__new__', '__or__', '__rand__', '__reduce__', '__reduce_ex__', '__repr__', '__ror__', '__rsub__', '__rxor__', '__setattr__', '__sizeof__', '__str__', '__sub__', '__subclasshook__', '__xor__', 'add', 'clear', 'copy', 'difference', 'difference_update', 'discard', 'intersection', 'intersection_update', 'isdisjoint', 'issubset', 'issuperset', 'pop', 'remove', 'symmetric_difference', 'symmetric_difference_update', 'union', 'update']\n"
     ]
    }
   ],
   "source": [
    "print(dir(st1))"
   ]
  },
  {
   "cell_type": "code",
   "execution_count": 23,
   "metadata": {},
   "outputs": [
    {
     "name": "stdout",
     "output_type": "stream",
     "text": [
      "1 2 3 qwerty asdfgh "
     ]
    }
   ],
   "source": [
    "for i in st1:\n",
    "    print(i, end=' ')"
   ]
  },
  {
   "cell_type": "code",
   "execution_count": 25,
   "metadata": {},
   "outputs": [
    {
     "name": "stdout",
     "output_type": "stream",
     "text": [
      "{} {1: 123, 'qwerty': 5678, (6, 7): [1, 2, 3, 4]}\n"
     ]
    }
   ],
   "source": [
    "empty = {}\n",
    "empty = dict()\n",
    "d1 = { 1: 123, 'qwerty': 5678, (6, 7): [1, 2, 3, 4] }\n",
    "print(empty, d1)"
   ]
  },
  {
   "cell_type": "code",
   "execution_count": 26,
   "metadata": {},
   "outputs": [
    {
     "name": "stdout",
     "output_type": "stream",
     "text": [
      "['__class__', '__contains__', '__delattr__', '__delitem__', '__dir__', '__doc__', '__eq__', '__format__', '__ge__', '__getattribute__', '__getitem__', '__gt__', '__hash__', '__init__', '__init_subclass__', '__iter__', '__le__', '__len__', '__lt__', '__ne__', '__new__', '__reduce__', '__reduce_ex__', '__repr__', '__reversed__', '__setattr__', '__setitem__', '__sizeof__', '__str__', '__subclasshook__', 'clear', 'copy', 'fromkeys', 'get', 'items', 'keys', 'pop', 'popitem', 'setdefault', 'update', 'values']\n"
     ]
    }
   ],
   "source": [
    "print(dir(d1))"
   ]
  },
  {
   "cell_type": "code",
   "execution_count": 28,
   "metadata": {},
   "outputs": [
    {
     "name": "stdout",
     "output_type": "stream",
     "text": [
      "value\n"
     ]
    }
   ],
   "source": [
    "d1['key'] = 'value'\n",
    "print(d1['key'])\n"
   ]
  },
  {
   "cell_type": "code",
   "execution_count": 31,
   "metadata": {},
   "outputs": [
    {
     "name": "stdout",
     "output_type": "stream",
     "text": [
      "value\n",
      "Default Value\n"
     ]
    }
   ],
   "source": [
    "print(d1.get('key', 'Default Value'))\n",
    "print(d1.get('key2', 'Default Value'))"
   ]
  },
  {
   "cell_type": "code",
   "execution_count": 32,
   "metadata": {},
   "outputs": [],
   "source": [
    "d1['key3'] = d1.get('key3', 0) + 1"
   ]
  },
  {
   "cell_type": "code",
   "execution_count": 37,
   "metadata": {},
   "outputs": [
    {
     "name": "stdout",
     "output_type": "stream",
     "text": [
      "1 123    qwerty 5678    (6, 7) [1, 2, 3, 4]    key value    key3 1    \n",
      "1 123    qwerty 5678    (6, 7) [1, 2, 3, 4]    key value    key3 1    "
     ]
    }
   ],
   "source": [
    "for i in d1:\n",
    "    print(i, d1[i], end='    ')\n",
    "print()\n",
    "for k, v in d1.items():\n",
    "    print(k, v, end='    ')"
   ]
  },
  {
   "cell_type": "code",
   "execution_count": 39,
   "metadata": {},
   "outputs": [
    {
     "name": "stdout",
     "output_type": "stream",
     "text": [
      "1 2 3\n",
      "2\n"
     ]
    }
   ],
   "source": [
    "def func(a, b, c):\n",
    "    print(a, b, c)\n",
    "    return a * 2\n",
    "\n",
    "print(func(1, 2, 3))"
   ]
  },
  {
   "cell_type": "code",
   "execution_count": 40,
   "metadata": {},
   "outputs": [
    {
     "name": "stdout",
     "output_type": "stream",
     "text": [
      "qwerty [1, 2, 3, 10, 20, 30] [4, 5, 6]\n"
     ]
    }
   ],
   "source": [
    "def func2(a, b, c):\n",
    "    a += 'hello'\n",
    "    b.extend([10, 20, 30])\n",
    "    c = c + [40, 50]\n",
    "\n",
    "\n",
    "x = 'qwerty'\n",
    "y = [1, 2, 3]\n",
    "z = [4, 5, 6]\n",
    "func2(x, y, z)\n",
    "print(x, y, z)"
   ]
  },
  {
   "cell_type": "code",
   "execution_count": 42,
   "metadata": {},
   "outputs": [
    {
     "name": "stdout",
     "output_type": "stream",
     "text": [
      "qwerty [1, 2, 3]\n",
      "qwerty [1, 2, 3]\n"
     ]
    }
   ],
   "source": [
    "x = 'qwerty'\n",
    "y = [1, 2, 3]\n",
    "\n",
    "def func3():\n",
    "    print(x, y)\n",
    "\n",
    "func3()\n",
    "print(x, y)"
   ]
  },
  {
   "cell_type": "code",
   "execution_count": 43,
   "metadata": {},
   "outputs": [
    {
     "name": "stdout",
     "output_type": "stream",
     "text": [
      "100 [10, 100]\n",
      "qwerty [1, 2, 3]\n"
     ]
    }
   ],
   "source": [
    "x = 'qwerty'\n",
    "y = [1, 2, 3]\n",
    "\n",
    "def func3():\n",
    "    x = 100\n",
    "    y = [10, 100]\n",
    "    print(x, y)\n",
    "\n",
    "func3()\n",
    "print(x, y)"
   ]
  },
  {
   "cell_type": "code",
   "execution_count": 45,
   "metadata": {},
   "outputs": [
    {
     "name": "stdout",
     "output_type": "stream",
     "text": [
      "qwerty [1, 2, 3, 10, 20, 30]\n",
      "qwerty [1, 2, 3, 10, 20, 30]\n"
     ]
    }
   ],
   "source": [
    "x = 'qwerty'\n",
    "y = [1, 2, 3]\n",
    "\n",
    "def func3():\n",
    "#     x += 'hello'\n",
    "    y.extend([10, 20, 30])\n",
    "    print(x, y)\n",
    "\n",
    "func3()\n",
    "print(x, y)"
   ]
  },
  {
   "cell_type": "code",
   "execution_count": 46,
   "metadata": {},
   "outputs": [
    {
     "name": "stdout",
     "output_type": "stream",
     "text": [
      "qwertyhello [1, 2, 3, 10, 20, 30]\n",
      "qwertyhello [1, 2, 3, 10, 20, 30]\n"
     ]
    }
   ],
   "source": [
    "x = 'qwerty'\n",
    "y = [1, 2, 3]\n",
    "\n",
    "def func3():\n",
    "    global x\n",
    "    x += 'hello'\n",
    "    y.extend([10, 20, 30])\n",
    "    print(x, y)\n",
    "\n",
    "func3()\n",
    "print(x, y)"
   ]
  },
  {
   "cell_type": "code",
   "execution_count": 47,
   "metadata": {},
   "outputs": [
    {
     "name": "stdout",
     "output_type": "stream",
     "text": [
      "1\n",
      "2\n",
      "()\n",
      "1\n",
      "2\n",
      "(3,)\n",
      "1\n",
      "2\n",
      "(3, 4, 5, 6, 7, 8, 9)\n"
     ]
    }
   ],
   "source": [
    "def func4(a, b, *args):\n",
    "    print(a)\n",
    "    print(b)\n",
    "    print(args)\n",
    "\n",
    "func4(1, 2)\n",
    "func4(1, 2, 3)\n",
    "func4(1, 2, 3, 4, 5, 6, 7, 8, 9)"
   ]
  },
  {
   "cell_type": "code",
   "execution_count": 51,
   "metadata": {},
   "outputs": [
    {
     "name": "stdout",
     "output_type": "stream",
     "text": [
      "1\n",
      "10\n",
      "(2, 3, 4, 5, 6, 7, 8, 9)\n",
      "1\n",
      "100\n",
      "(2, 3, 4, 5, 6, 7, 8, 9)\n"
     ]
    }
   ],
   "source": [
    "def func4(a, *args, b=100):\n",
    "    print(a)\n",
    "    print(b)\n",
    "    print(args)\n",
    "\n",
    "func4(1, 2, 3, 4, 5, 6, 7, 8, 9, b=10)\n",
    "func4(1, 2, 3, 4, 5, 6, 7, 8, 9)"
   ]
  },
  {
   "cell_type": "code",
   "execution_count": 53,
   "metadata": {},
   "outputs": [
    {
     "name": "stdout",
     "output_type": "stream",
     "text": [
      "1\n",
      "100\n",
      "(2, 3, 4, 5, 6, 7, 8, 9)\n",
      "{'c': 20, 'd': 30}\n"
     ]
    }
   ],
   "source": [
    "def func4(a, *args, b=100, **kwargs):\n",
    "    print(a)\n",
    "    print(b)\n",
    "    print(args)\n",
    "    print(kwargs)\n",
    "\n",
    "func4(1, 2, 3, 4, 5, 6, 7, 8, 9, c=20, d=30)"
   ]
  },
  {
   "cell_type": "code",
   "execution_count": 54,
   "metadata": {},
   "outputs": [
    {
     "name": "stdout",
     "output_type": "stream",
     "text": [
      "1-2\n"
     ]
    }
   ],
   "source": [
    "vyvod = print\n",
    "vyvod(1, 2, sep='-')"
   ]
  },
  {
   "cell_type": "code",
   "execution_count": 55,
   "metadata": {},
   "outputs": [
    {
     "name": "stdout",
     "output_type": "stream",
     "text": [
      "11\n",
      "11\n"
     ]
    }
   ],
   "source": [
    "print = input\n",
    "x = print()\n",
    "vyvod(x)\n",
    "print = vyvod"
   ]
  },
  {
   "cell_type": "code",
   "execution_count": null,
   "metadata": {},
   "outputs": [],
   "source": [
    "def fn(x):\n",
    "    return x ** 2\n",
    "\n",
    "fn2 = lambda x: x ** 2"
   ]
  },
  {
   "cell_type": "code",
   "execution_count": 57,
   "metadata": {},
   "outputs": [
    {
     "name": "stdout",
     "output_type": "stream",
     "text": [
      "Once deleted, variables cannot be recovered. Proceed (y/[n])? y\n"
     ]
    }
   ],
   "source": [
    "%reset"
   ]
  },
  {
   "cell_type": "code",
   "execution_count": 59,
   "metadata": {},
   "outputs": [
    {
     "name": "stdout",
     "output_type": "stream",
     "text": [
      "[0, 1, 4, 9, 16, 25, 36, 49, 64, 81]\n",
      "[0, 2, 4, 6, 8]\n"
     ]
    }
   ],
   "source": [
    "lst = list(range(10))\n",
    "lst2 = list(map(lambda x: x ** 2, lst))\n",
    "lst3 = list(filter(lambda x: x % 2 == 0, lst))\n",
    "print(lst2)\n",
    "print(lst3)"
   ]
  },
  {
   "cell_type": "code",
   "execution_count": 62,
   "metadata": {},
   "outputs": [
    {
     "name": "stdout",
     "output_type": "stream",
     "text": [
      "['uqyetuy', 'werbhhj', 'UbYYY', 'JHG', 'dfg', 'sdf']\n"
     ]
    }
   ],
   "source": [
    "print(sorted(['uqyetuy', 'JHG', 'UbYYY', 'dfg', 'werbhhj', 'sdf'], reverse=True, key=len))"
   ]
  },
  {
   "cell_type": "code",
   "execution_count": 63,
   "metadata": {},
   "outputs": [
    {
     "name": "stdout",
     "output_type": "stream",
     "text": [
      "['dfg', 'JHG', 'sdf', 'UbYYY', 'uqyetuy', 'werbhhj']\n"
     ]
    }
   ],
   "source": [
    "print(sorted(['uqyetuy', 'JHG', 'UbYYY', 'dfg', 'werbhhj', 'sdf'], key=lambda x: (len(x), x.lower())))"
   ]
  },
  {
   "cell_type": "code",
   "execution_count": 69,
   "metadata": {},
   "outputs": [
    {
     "name": "stdout",
     "output_type": "stream",
     "text": [
      "Once deleted, variables cannot be recovered. Proceed (y/[n])? y\n"
     ]
    }
   ],
   "source": [
    "%reset"
   ]
  },
  {
   "cell_type": "code",
   "execution_count": 70,
   "metadata": {},
   "outputs": [],
   "source": [
    "def fib(n):\n",
    "    if n <= 1:\n",
    "        return 1\n",
    "    return fib(n - 2) + fib(n - 1)"
   ]
  },
  {
   "cell_type": "code",
   "execution_count": 66,
   "metadata": {},
   "outputs": [
    {
     "name": "stdout",
     "output_type": "stream",
     "text": [
      "89\n"
     ]
    }
   ],
   "source": [
    "print(fib(10))"
   ]
  },
  {
   "cell_type": "code",
   "execution_count": 71,
   "metadata": {},
   "outputs": [
    {
     "name": "stdout",
     "output_type": "stream",
     "text": [
      "fib Start #1 (5,) {}\n",
      "fib Start #2 (3,) {}\n",
      "fib Start #3 (1,) {}\n",
      "fib Finish #3 1\n",
      "fib Start #4 (2,) {}\n",
      "fib Start #5 (0,) {}\n",
      "fib Finish #5 1\n",
      "fib Start #6 (1,) {}\n",
      "fib Finish #6 1\n",
      "fib Finish #4 2\n",
      "fib Finish #2 3\n",
      "fib Start #7 (4,) {}\n",
      "fib Start #8 (2,) {}\n",
      "fib Start #9 (0,) {}\n",
      "fib Finish #9 1\n",
      "fib Start #10 (1,) {}\n",
      "fib Finish #10 1\n",
      "fib Finish #8 2\n",
      "fib Start #11 (3,) {}\n",
      "fib Start #12 (1,) {}\n",
      "fib Finish #12 1\n",
      "fib Start #13 (2,) {}\n",
      "fib Start #14 (0,) {}\n",
      "fib Finish #14 1\n",
      "fib Start #15 (1,) {}\n",
      "fib Finish #15 1\n",
      "fib Finish #13 2\n",
      "fib Finish #11 3\n",
      "fib Finish #7 5\n",
      "fib Finish #1 8\n"
     ]
    },
    {
     "data": {
      "text/plain": [
       "8"
      ]
     },
     "execution_count": 71,
     "metadata": {},
     "output_type": "execute_result"
    }
   ],
   "source": [
    "def logged(func):\n",
    "    count = 0\n",
    "    def new_func(*args, **kwargs):\n",
    "        nonlocal count\n",
    "        count += 1\n",
    "        local_count = count\n",
    "        print(func.__name__, f'Start #{local_count}', args, kwargs)\n",
    "        res = func(*args, **kwargs)\n",
    "        print(func.__name__, f'Finish #{local_count}', res)\n",
    "        return res\n",
    "    return new_func\n",
    "\n",
    "fib = logged(fib)\n",
    "fib(5)"
   ]
  },
  {
   "cell_type": "code",
   "execution_count": 73,
   "metadata": {},
   "outputs": [],
   "source": [
    "@logged\n",
    "def fib2(n):\n",
    "    if n <= 1:\n",
    "        return 1\n",
    "    return fib(n - 2) + fib(n - 1)"
   ]
  },
  {
   "cell_type": "code",
   "execution_count": 78,
   "metadata": {},
   "outputs": [
    {
     "name": "stdout",
     "output_type": "stream",
     "text": [
      "573147844013817084101\n"
     ]
    }
   ],
   "source": [
    "from functools import lru_cache\n",
    "\n",
    "\n",
    "@lru_cache\n",
    "def fib3(n):\n",
    "    if n <= 1:\n",
    "        return 1\n",
    "    return fib3(n - 2) + fib3(n - 1)\n",
    "\n",
    "print(fib3(100))"
   ]
  },
  {
   "cell_type": "code",
   "execution_count": 86,
   "metadata": {},
   "outputs": [
    {
     "name": "stdout",
     "output_type": "stream",
     "text": [
      "Point(3, 7, len=7.615773105863909) Point(5, 5, len=7.0710678118654755) Point(8, 0, len=8.0)\n",
      "7.615773105863909\n",
      "7.615773105863909\n",
      "Point(16, 12, len=20.0)\n"
     ]
    }
   ],
   "source": [
    "class Point:\n",
    "    def __init__(self, x=0, y=None):\n",
    "        if y is None:\n",
    "            y = x\n",
    "        self.x = x\n",
    "        self.y = y\n",
    "    \n",
    "    def len(self):\n",
    "        return (self.x ** 2 + self.y ** 2) ** 0.5\n",
    "    \n",
    "    def __add__(self, other):\n",
    "        return Point(self.x + other.x, self.y + other.y)\n",
    "    \n",
    "    def __str__(self):\n",
    "        return f'Point({self.x}, {self.y}, len={self.len()})'\n",
    "    \n",
    "\n",
    "        \n",
    "p1 = Point(3, 7)\n",
    "p2 = Point(5)\n",
    "p3 = Point()\n",
    "p3.x = 8\n",
    "print(p1, p2, p3)\n",
    "print(p1.len())\n",
    "print(Point.len(p1))\n",
    "print(p1 + p2 + p3)"
   ]
  },
  {
   "cell_type": "code",
   "execution_count": 92,
   "metadata": {},
   "outputs": [
    {
     "name": "stdout",
     "output_type": "stream",
     "text": [
      "Rectangle(area=14, perimeter=18)\n",
      "Circle(area=78.5, perimeter=31.400000000000002)\n",
      "True\n"
     ]
    }
   ],
   "source": [
    "class Geometry:\n",
    "    def __init__(self, name):\n",
    "        self.name = name\n",
    "    \n",
    "    def __str__(self):\n",
    "        return f'{self.name}(area={self.area()}, perimeter={self.perimeter()})'\n",
    "\n",
    "class Circle(Geometry):\n",
    "    def __init__(self, radius):\n",
    "        super().__init__('Circle')\n",
    "        self.radius = radius\n",
    "    \n",
    "    def area(self):\n",
    "        return 3.14 * self.radius ** 2\n",
    "    \n",
    "    def perimeter(self):\n",
    "        return 2 * 3.14 * self.radius\n",
    "\n",
    "class Rectangle(Geometry):\n",
    "    def __init__(self, a, b):\n",
    "        super().__init__('Rectangle')\n",
    "        self.a = a\n",
    "        self.b = b\n",
    "    \n",
    "    def area(self):\n",
    "        return self.a * self.b\n",
    "    \n",
    "    def perimeter(self):\n",
    "        return 2 * (self.a + self.b)\n",
    "\n",
    "class Square(Rectangle):\n",
    "    def __init__(self, a):\n",
    "        super().__init__(a, a)\n",
    "        self.name = 'Square'\n",
    "    \n",
    "\n",
    "r = Rectangle(2, 7)\n",
    "c = Circle(5)\n",
    "s = Square(5)\n",
    "print(r)\n",
    "print(c)\n",
    "print(isinstance(s, Geometry))"
   ]
  },
  {
   "cell_type": "code",
   "execution_count": 96,
   "metadata": {},
   "outputs": [
    {
     "name": "stdout",
     "output_type": "stream",
     "text": [
      "class B, method fn3\n",
      "class A, method fn1\n"
     ]
    }
   ],
   "source": [
    "class A:\n",
    "    def fn1(self):\n",
    "        print('class A, method fn1')\n",
    "        \n",
    "    \n",
    "    def fn2(self):\n",
    "        print('class A, method fn2')\n",
    "        self.fn1()\n",
    "\n",
    "class B:\n",
    "    def fn1(self):\n",
    "        print('class B, method fn1')\n",
    "        \n",
    "    \n",
    "    def fn3(self):\n",
    "        print('class B, method fn3')\n",
    "        self.fn1()\n",
    "        \n",
    "    def fn4(self):\n",
    "        print('class B, method fn4')\n",
    "\n",
    "class C(A, B):\n",
    "    def __init__(self):\n",
    "        A.__init__(self)\n",
    "        B.__init__(self)\n",
    "\n",
    "c = C()\n",
    "c.fn3()"
   ]
  },
  {
   "cell_type": "code",
   "execution_count": null,
   "metadata": {},
   "outputs": [],
   "source": []
  },
  {
   "cell_type": "code",
   "execution_count": null,
   "metadata": {},
   "outputs": [],
   "source": []
  },
  {
   "cell_type": "code",
   "execution_count": null,
   "metadata": {},
   "outputs": [],
   "source": []
  },
  {
   "cell_type": "code",
   "execution_count": null,
   "metadata": {},
   "outputs": [],
   "source": []
  }
 ],
 "metadata": {
  "kernelspec": {
   "display_name": "Python 3",
   "language": "python",
   "name": "python3"
  },
  "language_info": {
   "codemirror_mode": {
    "name": "ipython",
    "version": 3
   },
   "file_extension": ".py",
   "mimetype": "text/x-python",
   "name": "python",
   "nbconvert_exporter": "python",
   "pygments_lexer": "ipython3",
   "version": "3.8.5"
  }
 },
 "nbformat": 4,
 "nbformat_minor": 4
}
